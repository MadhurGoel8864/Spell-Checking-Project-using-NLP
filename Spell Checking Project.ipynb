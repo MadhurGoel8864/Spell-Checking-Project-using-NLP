{
 "cells": [
  {
   "cell_type": "markdown",
   "id": "3cbbaebf",
   "metadata": {},
   "source": [
    "<font size = 6 color = \"red\"><center> Spell Checking Project </center></font>"
   ]
  },
  {
   "cell_type": "markdown",
   "id": "8662a275",
   "metadata": {},
   "source": [
    "## Inporting Libraries"
   ]
  },
  {
   "cell_type": "code",
   "execution_count": 66,
   "id": "efbd6482",
   "metadata": {},
   "outputs": [],
   "source": [
    "import re\n",
    "import pandas as pd\n",
    "from tqdm import tqdm   "
   ]
  },
  {
   "cell_type": "markdown",
   "id": "e94a0af0",
   "metadata": {},
   "source": [
    "## Loading DataSet and Finding Unique Words "
   ]
  },
  {
   "cell_type": "code",
   "execution_count": 67,
   "id": "ed147299",
   "metadata": {},
   "outputs": [
    {
     "name": "stdout",
     "output_type": "stream",
     "text": [
      "1115585\n",
      "32198\n"
     ]
    }
   ],
   "source": [
    "with open('sample_words_data.txt','r') as fd:\n",
    "    lines = fd.readlines()\n",
    "    words = []\n",
    "    for line in lines:\n",
    "        words += re.findall('\\w+',line.lower())\n",
    "        \n",
    "print(len(words))\n",
    "vocab = list(set(words))\n",
    "print(len(vocab))"
   ]
  },
  {
   "cell_type": "code",
   "execution_count": 6,
   "id": "5af2f8d4",
   "metadata": {},
   "outputs": [
    {
     "name": "stderr",
     "output_type": "stream",
     "text": [
      "100%|████████████████████████████████████████████████████████████████████████████| 32198/32198 [13:22<00:00, 40.10it/s]\n"
     ]
    }
   ],
   "source": [
    "word_probability = {}\n",
    "for word in tqdm(vocab):\n",
    "    word_probability[word] = float(words.count(word)/len(words))    "
   ]
  },
  {
   "cell_type": "markdown",
   "id": "93450065",
   "metadata": {},
   "source": [
    "# Text Preprocessing"
   ]
  },
  {
   "cell_type": "markdown",
   "id": "80667678",
   "metadata": {},
   "source": [
    "## Splitting the word"
   ]
  },
  {
   "cell_type": "code",
   "execution_count": 68,
   "id": "25c9251e",
   "metadata": {},
   "outputs": [],
   "source": [
    "def split(word):  \n",
    "    parts = []\n",
    "    for i in range(len(word) + 1):\n",
    "        parts += [(word[ : i], word[i : ])]\n",
    "    return parts"
   ]
  },
  {
   "cell_type": "markdown",
   "id": "1b96b2eb",
   "metadata": {},
   "source": [
    "### <ul> <li> Delete </li> <ul>"
   ]
  },
  {
   "cell_type": "code",
   "execution_count": 69,
   "id": "8ec3922b",
   "metadata": {},
   "outputs": [
    {
     "data": {
      "text/plain": [
       "['oave', 'lave', 'love', 'loae', 'loav', 'loave']"
      ]
     },
     "execution_count": 69,
     "metadata": {},
     "output_type": "execute_result"
    }
   ],
   "source": [
    "def delete(word):\n",
    "    \n",
    "    output = []\n",
    "    for l,r in split(word):\n",
    "        output.append(l + r[1:])\n",
    "    return output\n",
    "\n",
    "delete('loave')"
   ]
  },
  {
   "cell_type": "markdown",
   "id": "a24754d1",
   "metadata": {},
   "source": [
    "### <ul> <li> Swap </li> <ul>"
   ]
  },
  {
   "cell_type": "code",
   "execution_count": 70,
   "id": "065dd2d2",
   "metadata": {},
   "outputs": [
    {
     "data": {
      "text/plain": [
       "['vloe', 'love', 'lveo']"
      ]
     },
     "execution_count": 70,
     "metadata": {},
     "output_type": "execute_result"
    }
   ],
   "source": [
    "def swap(word):\n",
    "        \n",
    "    output = []    \n",
    "    for l,r in split(word):\n",
    "        if (len(r) > 1):\n",
    "            output.append(l + r[1] + r[0] + r[2:])\n",
    "    return output\n",
    "            \n",
    "swap('lvoe')"
   ]
  },
  {
   "cell_type": "markdown",
   "id": "6ea8b20f",
   "metadata": {},
   "source": [
    "### <ul> <li> Replace </li> <ul>"
   ]
  },
  {
   "cell_type": "code",
   "execution_count": 71,
   "id": "8b2eba7c",
   "metadata": {},
   "outputs": [
    {
     "data": {
      "text/plain": [
       "130"
      ]
     },
     "execution_count": 71,
     "metadata": {},
     "output_type": "execute_result"
    }
   ],
   "source": [
    "def replace(word):\n",
    "    \n",
    "    characters = 'abcdefghijklmnopqrstuvwxyz'\n",
    "    output = []    \n",
    "\n",
    "    for l,r in split(word):\n",
    "        for char in characters:\n",
    "            output.append(l + char +  r[1:])\n",
    "    return output\n",
    "\n",
    "len(replace('lave'))"
   ]
  },
  {
   "cell_type": "markdown",
   "id": "58bbeb1f",
   "metadata": {},
   "source": [
    "### <ul> <li> Insert </li> <ul>"
   ]
  },
  {
   "cell_type": "code",
   "execution_count": 72,
   "id": "09644f03",
   "metadata": {},
   "outputs": [
    {
     "data": {
      "text/plain": [
       "104"
      ]
     },
     "execution_count": 72,
     "metadata": {},
     "output_type": "execute_result"
    }
   ],
   "source": [
    "def insert(word):\n",
    "\n",
    "    characters = 'abcdefghijklmnopqrstuvwxyz'\n",
    "    output = []\n",
    "\n",
    "    for l,r in split(word):\n",
    "        for char in characters:\n",
    "            output.append(l + char + r)\n",
    "\n",
    "    return output\n",
    "\n",
    "len(insert('lve'))"
   ]
  },
  {
   "cell_type": "markdown",
   "id": "f7dc5872",
   "metadata": {},
   "source": [
    "# Finding the Prediction (Level - 2)\n",
    "#### In this level, 1 alphabets can be edited from the given words"
   ]
  },
  {
   "cell_type": "markdown",
   "id": "1387d483",
   "metadata": {},
   "source": [
    "### <ul> <li> Combining Possible Words </li> <ul>"
   ]
  },
  {
   "cell_type": "code",
   "execution_count": 73,
   "id": "879d2b00",
   "metadata": {},
   "outputs": [],
   "source": [
    "def edit(word):   \n",
    "    return list(set(insert(word) + delete(word) + swap(word) + replace(word)))"
   ]
  },
  {
   "cell_type": "markdown",
   "id": "e51dc9e7",
   "metadata": {},
   "source": [
    "### <ul> <li> Predicting the Word</li> <ul>"
   ]
  },
  {
   "cell_type": "code",
   "execution_count": 74,
   "id": "e3d52e86",
   "metadata": {},
   "outputs": [],
   "source": [
    "def spell_check_edit_1(word, count = 5):\n",
    "    \n",
    "    output = []\n",
    "    suggested_words = edit(word)\n",
    "    \n",
    "    for wrd in suggested_words:        \n",
    "        if wrd in word_probability.keys():\n",
    "            output.append([wrd, word_probability[wrd]])\n",
    "            \n",
    "    return list(pd.DataFrame(output, columns = ['word','prob']).sort_values(by = 'prob', ascending = False).head(count)['word'].values)"
   ]
  },
  {
   "cell_type": "code",
   "execution_count": 75,
   "id": "71958adc",
   "metadata": {},
   "outputs": [
    {
     "data": {
      "text/plain": [
       "['fresh', 'crush', 'crash', 'crest']"
      ]
     },
     "execution_count": 75,
     "metadata": {},
     "output_type": "execute_result"
    }
   ],
   "source": [
    "spell_check_edit_1('cresh')"
   ]
  },
  {
   "cell_type": "code",
   "execution_count": 77,
   "id": "c8f32703",
   "metadata": {},
   "outputs": [
    {
     "data": {
      "text/plain": [
       "['holiday']"
      ]
     },
     "execution_count": 77,
     "metadata": {},
     "output_type": "execute_result"
    }
   ],
   "source": [
    "spell_check_edit_1(\"holday\")"
   ]
  },
  {
   "cell_type": "code",
   "execution_count": 80,
   "id": "92ef9307",
   "metadata": {},
   "outputs": [
    {
     "data": {
      "text/plain": [
       "['older']"
      ]
     },
     "execution_count": 80,
     "metadata": {},
     "output_type": "execute_result"
    }
   ],
   "source": [
    "spell_check_edit_1('oldezr')"
   ]
  },
  {
   "cell_type": "code",
   "execution_count": 93,
   "id": "414ab5cc",
   "metadata": {},
   "outputs": [
    {
     "data": {
      "text/plain": [
       "['extensions']"
      ]
     },
     "execution_count": 93,
     "metadata": {},
     "output_type": "execute_result"
    }
   ],
   "source": [
    "spell_check_edit_1('exetnsions')"
   ]
  },
  {
   "cell_type": "markdown",
   "id": "69ecbb11",
   "metadata": {},
   "source": [
    "# Finding the Prediction (Level - 2)\n",
    "#### In this level, 2 alphabets can be edited from the given words"
   ]
  },
  {
   "cell_type": "markdown",
   "id": "a125362a",
   "metadata": {},
   "source": [
    "### <ul> <li> Combining Possible Words </li> <ul>"
   ]
  },
  {
   "cell_type": "code",
   "execution_count": 85,
   "id": "3244b005",
   "metadata": {},
   "outputs": [],
   "source": [
    "def spell_check_edit_2(word, count = 5):\n",
    "    \n",
    "    output = []\n",
    "    suggested_words = edit(word)       # Level one Edit\n",
    "    \n",
    "    for e1 in edit(word):\n",
    "        suggested_words += edit(e1)    # Second Level Edit \n",
    "    \n",
    "    suggested_words = list(set(suggested_words))\n",
    "    \n",
    "    for wrd in suggested_words:\n",
    "        if wrd in word_probability.keys():\n",
    "            output.append([wrd, word_probability[wrd]])\n",
    "    return list(pd.DataFrame(output, columns = ['word','prob']).sort_values(by = 'prob', ascending = False).head(count)['word'].values)\n",
    "        "
   ]
  },
  {
   "cell_type": "code",
   "execution_count": 87,
   "id": "2e4c2d72",
   "metadata": {},
   "outputs": [
    {
     "data": {
      "text/plain": [
       "['family', 'namely', 'fame', 'camel', 'camelia']"
      ]
     },
     "execution_count": 87,
     "metadata": {},
     "output_type": "execute_result"
    }
   ],
   "source": [
    "spell_check_edit_2('fameli')"
   ]
  },
  {
   "cell_type": "code",
   "execution_count": 92,
   "id": "b686ba2c",
   "metadata": {},
   "outputs": [
    {
     "data": {
      "text/plain": [
       "['challenge']"
      ]
     },
     "execution_count": 92,
     "metadata": {},
     "output_type": "execute_result"
    }
   ],
   "source": [
    "spell_check_edit_2('chalendge')"
   ]
  }
 ],
 "metadata": {
  "kernelspec": {
   "display_name": "Python 3 (ipykernel)",
   "language": "python",
   "name": "python3"
  },
  "language_info": {
   "codemirror_mode": {
    "name": "ipython",
    "version": 3
   },
   "file_extension": ".py",
   "mimetype": "text/x-python",
   "name": "python",
   "nbconvert_exporter": "python",
   "pygments_lexer": "ipython3",
   "version": "3.11.5"
  }
 },
 "nbformat": 4,
 "nbformat_minor": 5
}
